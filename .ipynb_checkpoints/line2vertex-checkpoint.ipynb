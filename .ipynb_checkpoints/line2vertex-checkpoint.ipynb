{
 "cells": [
  {
   "cell_type": "code",
   "execution_count": 1,
   "metadata": {},
   "outputs": [
    {
     "name": "stdout",
     "output_type": "stream",
     "text": [
      "(1000, 1000)\n",
      "(0, 0, 0)\n"
     ]
    }
   ],
   "source": [
    "import math\n",
    "from PIL import Image\n",
    "\n",
    "im = Image.open('knightLine.jpg') # Can be many different formats.\n",
    "pix = im.load()\n",
    "print(im.size)  # Get the width and hight of the image for iterating over\n",
    "print(pix[0,0])  # Get the RGBA Value of the a pixel of an image\n",
    "#pix[1,1] = (255, 255, 255)  # Set the RGBA Value of the image (tuple)\n",
    "#im.save('alive_parrot.png')  # Save the modified pixels as .png"
   ]
  },
  {
   "cell_type": "code",
   "execution_count": 2,
   "metadata": {},
   "outputs": [],
   "source": [
    "#move downwards from top of image\n",
    "#place vertex point at first black pixel\n",
    "#keep checking if you are img_Height/50 away from the previous vertex\n",
    "#only place new vertex until distance is reached"
   ]
  },
  {
   "cell_type": "code",
   "execution_count": 3,
   "metadata": {},
   "outputs": [],
   "source": [
    "w = im.size[0]\n",
    "h = im.size[1]\n",
    "vertices = []\n",
    "\n",
    "for ph in range(h):\n",
    "    for pw in range(w):\n",
    "        if(len(vertices) == 0):\n",
    "            if(pix[pw,ph] == (0,0,0)):\n",
    "                vertices.append((pw,ph))\n",
    "                pix[pw,ph] = (255, 0, 0)\n",
    "        elif(pix[pw,ph] == (0,0,0)):\n",
    "            if(ph - vertices[len(vertices)-1][1] > round(h/50)):\n",
    "                vertices.append((pw,ph))\n",
    "                pix[pw,ph] = (255, 0, 0)\n",
    "\n",
    "for i in range(len(vertices)):\n",
    "    vertices[i] = (vertices[i][0]/h,abs(round(1 - vertices[i][1]/h, 3)))\n",
    "    \n",
    "vertices.reverse()"
   ]
  },
  {
   "cell_type": "code",
   "execution_count": 4,
   "metadata": {},
   "outputs": [
    {
     "name": "stdout",
     "output_type": "stream",
     "text": [
      "[(0.284, 0.013), (0.292, 0.034), (0.32, 0.055), (0.327, 0.076), (0.298, 0.097), (0.282, 0.118), (0.295, 0.139), (0.304, 0.16), (0.298, 0.181), (0.281, 0.202), (0.247, 0.223), (0.228, 0.244), (0.224, 0.265), (0.213, 0.286), (0.216, 0.307), (0.198, 0.328), (0.192, 0.349), (0.188, 0.37), (0.182, 0.391), (0.176, 0.412), (0.171, 0.433), (0.168, 0.454), (0.168, 0.475), (0.162, 0.496), (0.158, 0.517), (0.157, 0.538), (0.155, 0.559), (0.154, 0.58), (0.154, 0.601), (0.151, 0.622), (0.151, 0.643), (0.151, 0.664), (0.151, 0.685), (0.153, 0.706), (0.161, 0.727), (0.175, 0.748), (0.181, 0.769), (0.193, 0.79), (0.193, 0.811), (0.208, 0.832), (0.054, 0.853), (0.052, 0.874), (0.052, 0.895), (0.052, 0.916), (0.052, 0.937), (0.052, 0.958), (0.053, 0.979), (0.0, 1.0)]\n"
     ]
    }
   ],
   "source": [
    "print(vertices)"
   ]
  },
  {
   "cell_type": "code",
   "execution_count": 5,
   "metadata": {},
   "outputs": [
    {
     "name": "stdout",
     "output_type": "stream",
     "text": [
      "48\n"
     ]
    }
   ],
   "source": [
    "print(len(vertices))"
   ]
  },
  {
   "cell_type": "code",
   "execution_count": 6,
   "metadata": {},
   "outputs": [
    {
     "name": "stdout",
     "output_type": "stream",
     "text": [
      "{ 0.284 , 0.013 },\n",
      "{ 0.292 , 0.034 },\n",
      "{ 0.32 , 0.055 },\n",
      "{ 0.327 , 0.076 },\n",
      "{ 0.298 , 0.097 },\n",
      "{ 0.282 , 0.118 },\n",
      "{ 0.295 , 0.139 },\n",
      "{ 0.304 , 0.16 },\n",
      "{ 0.298 , 0.181 },\n",
      "{ 0.281 , 0.202 },\n",
      "{ 0.247 , 0.223 },\n",
      "{ 0.228 , 0.244 },\n",
      "{ 0.224 , 0.265 },\n",
      "{ 0.213 , 0.286 },\n",
      "{ 0.216 , 0.307 },\n",
      "{ 0.198 , 0.328 },\n",
      "{ 0.192 , 0.349 },\n",
      "{ 0.188 , 0.37 },\n",
      "{ 0.182 , 0.391 },\n",
      "{ 0.176 , 0.412 },\n",
      "{ 0.171 , 0.433 },\n",
      "{ 0.168 , 0.454 },\n",
      "{ 0.168 , 0.475 },\n",
      "{ 0.162 , 0.496 },\n",
      "{ 0.158 , 0.517 },\n",
      "{ 0.157 , 0.538 },\n",
      "{ 0.155 , 0.559 },\n",
      "{ 0.154 , 0.58 },\n",
      "{ 0.154 , 0.601 },\n",
      "{ 0.151 , 0.622 },\n",
      "{ 0.151 , 0.643 },\n",
      "{ 0.151 , 0.664 },\n",
      "{ 0.151 , 0.685 },\n",
      "{ 0.153 , 0.706 },\n",
      "{ 0.161 , 0.727 },\n",
      "{ 0.175 , 0.748 },\n",
      "{ 0.181 , 0.769 },\n",
      "{ 0.193 , 0.79 },\n",
      "{ 0.193 , 0.811 },\n",
      "{ 0.208 , 0.832 },\n",
      "{ 0.054 , 0.853 },\n",
      "{ 0.052 , 0.874 },\n",
      "{ 0.052 , 0.895 },\n",
      "{ 0.052 , 0.916 },\n",
      "{ 0.052 , 0.937 },\n",
      "{ 0.052 , 0.958 },\n",
      "{ 0.053 , 0.979 },\n",
      "{ 0.0 , 1.0 },\n"
     ]
    }
   ],
   "source": [
    "\n",
    "for i in range(len(vertices)):\n",
    "    print('{', vertices[i][0], ',', vertices[i][1], '},')"
   ]
  },
  {
   "cell_type": "code",
   "execution_count": 7,
   "metadata": {},
   "outputs": [],
   "source": [
    "im.save('line2RED.png')"
   ]
  },
  {
   "cell_type": "code",
   "execution_count": null,
   "metadata": {},
   "outputs": [],
   "source": []
  }
 ],
 "metadata": {
  "kernelspec": {
   "display_name": "Python 3 (ipykernel)",
   "language": "python",
   "name": "python3"
  },
  "language_info": {
   "codemirror_mode": {
    "name": "ipython",
    "version": 3
   },
   "file_extension": ".py",
   "mimetype": "text/x-python",
   "name": "python",
   "nbconvert_exporter": "python",
   "pygments_lexer": "ipython3",
   "version": "3.9.12"
  }
 },
 "nbformat": 4,
 "nbformat_minor": 2
}
