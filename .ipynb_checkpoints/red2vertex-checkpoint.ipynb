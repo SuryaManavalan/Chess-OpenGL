{
 "cells": [
  {
   "cell_type": "code",
   "execution_count": 16,
   "metadata": {},
   "outputs": [
    {
     "name": "stdout",
     "output_type": "stream",
     "text": [
      "(1000, 1000)\n",
      "(255, 255, 255)\n"
     ]
    }
   ],
   "source": [
    "import math\n",
    "from PIL import Image\n",
    "\n",
    "im = Image.open('horseHead.png') # Can be many different formats.\n",
    "pix = im.load()\n",
    "print(im.size)  # Get the width and hight of the image for iterating over\n",
    "print(pix[0,0])  # Get the RGBA Value of the a pixel of an image\n",
    "#pix[1,1] = (255, 255, 255)  # Set the RGBA Value of the image (tuple)\n",
    "#im.save('alive_parrot.png')  # Save the modified pixels as .png"
   ]
  },
  {
   "cell_type": "code",
   "execution_count": 17,
   "metadata": {},
   "outputs": [],
   "source": [
    "w = im.size[0]\n",
    "h = im.size[1]\n",
    "vertices = []\n",
    "\n",
    "for ph in range(h):\n",
    "    for pw in range(w):\n",
    "        if(pix[pw,ph] == (255,0,0)):\n",
    "            vertices.append((pw,ph))\n",
    "\n",
    "for i in range(len(vertices)):\n",
    "    vertices[i] = (vertices[i][0]/h,abs(round(1 - vertices[i][1]/h, 3)))\n",
    "    \n",
    "vertices.reverse()"
   ]
  },
  {
   "cell_type": "code",
   "execution_count": 18,
   "metadata": {},
   "outputs": [
    {
     "name": "stdout",
     "output_type": "stream",
     "text": [
      "[(0.352, 0.311), (0.605, 0.312), (0.328, 0.312), (0.305, 0.315), (0.307, 0.332), (0.63, 0.334), (0.313, 0.347), (0.656, 0.36), (0.32, 0.365), (0.328, 0.386), (0.648, 0.394), (0.332, 0.415), (0.639, 0.418), (0.333, 0.437), (0.626, 0.447), (0.331, 0.465), (0.607, 0.484), (0.326, 0.492), (0.59, 0.513), (0.323, 0.514), (0.576, 0.535), (0.316, 0.544), (0.561, 0.555), (0.31, 0.566), (0.543, 0.576), (0.306, 0.588), (0.53, 0.601), (0.543, 0.607), (0.532, 0.607), (0.652, 0.613), (0.302, 0.614), (0.564, 0.615), (0.663, 0.616), (0.642, 0.616), (0.685, 0.625), (0.584, 0.625), (0.62, 0.628), (0.7, 0.632), (0.603, 0.635), (0.699, 0.638), (0.3, 0.638), (0.699, 0.647), (0.306, 0.66), (0.707, 0.663), (0.707, 0.671), (0.715, 0.674), (0.716, 0.679), (0.31, 0.687), (0.714, 0.689), (0.719, 0.7), (0.714, 0.71), (0.319, 0.712), (0.707, 0.729), (0.695, 0.737), (0.333, 0.739), (0.665, 0.749), (0.345, 0.754), (0.627, 0.759), (0.597, 0.766), (0.569, 0.773), (0.548, 0.779), (0.351, 0.781), (0.519, 0.787), (0.491, 0.797), (0.481, 0.8), (0.369, 0.8), (0.45, 0.813), (0.466, 0.814), (0.397, 0.818), (0.437, 0.823), (0.414, 0.826)]\n"
     ]
    }
   ],
   "source": [
    "print(vertices)"
   ]
  },
  {
   "cell_type": "code",
   "execution_count": 19,
   "metadata": {},
   "outputs": [
    {
     "name": "stdout",
     "output_type": "stream",
     "text": [
      "71\n"
     ]
    }
   ],
   "source": [
    "print(len(vertices))"
   ]
  },
  {
   "cell_type": "code",
   "execution_count": 20,
   "metadata": {},
   "outputs": [
    {
     "name": "stdout",
     "output_type": "stream",
     "text": [
      "71\n"
     ]
    }
   ],
   "source": [
    "order = []\n",
    "\n",
    "while len(vertices) > 0:\n",
    "    mini = 2\n",
    "    mindex = -1\n",
    "    for i in range(len(vertices)):\n",
    "        if len(order) == 0:\n",
    "            if mini > math.dist(vertices[i],(0,0)):\n",
    "                mini = math.dist(vertices[i],(0,0))\n",
    "                mindex = i\n",
    "        else:\n",
    "            if mini > math.dist(vertices[i],order[len(order)-1]):\n",
    "                mini = math.dist(vertices[i],order[len(order)-1])\n",
    "                mindex = i\n",
    "    order.append(vertices[mindex])\n",
    "    del vertices[mindex]\n",
    "\n",
    "print(len(order))"
   ]
  },
  {
   "cell_type": "code",
   "execution_count": 22,
   "metadata": {},
   "outputs": [
    {
     "name": "stdout",
     "output_type": "stream",
     "text": [
      "{ 0.305 , 0.315 },\n",
      "{ 0.307 , 0.332 },\n",
      "{ 0.313 , 0.347 },\n",
      "{ 0.32 , 0.365 },\n",
      "{ 0.328 , 0.386 },\n",
      "{ 0.332 , 0.415 },\n",
      "{ 0.333 , 0.437 },\n",
      "{ 0.331 , 0.465 },\n",
      "{ 0.326 , 0.492 },\n",
      "{ 0.323 , 0.514 },\n",
      "{ 0.316 , 0.544 },\n",
      "{ 0.31 , 0.566 },\n",
      "{ 0.306 , 0.588 },\n",
      "{ 0.302 , 0.614 },\n",
      "{ 0.3 , 0.638 },\n",
      "{ 0.306 , 0.66 },\n",
      "{ 0.31 , 0.687 },\n",
      "{ 0.319 , 0.712 },\n",
      "{ 0.333 , 0.739 },\n",
      "{ 0.345 , 0.754 },\n",
      "{ 0.351 , 0.781 },\n",
      "{ 0.369 , 0.8 },\n",
      "{ 0.397 , 0.818 },\n",
      "{ 0.414 , 0.826 },\n",
      "{ 0.437 , 0.823 },\n",
      "{ 0.45 , 0.813 },\n",
      "{ 0.466 , 0.814 },\n",
      "{ 0.481 , 0.8 },\n",
      "{ 0.491 , 0.797 },\n",
      "{ 0.519 , 0.787 },\n",
      "{ 0.548 , 0.779 },\n",
      "{ 0.569 , 0.773 },\n",
      "{ 0.597 , 0.766 },\n",
      "{ 0.627 , 0.759 },\n",
      "{ 0.665 , 0.749 },\n",
      "{ 0.695 , 0.737 },\n",
      "{ 0.707 , 0.729 },\n",
      "{ 0.714 , 0.71 },\n",
      "{ 0.719 , 0.7 },\n",
      "{ 0.714 , 0.689 },\n",
      "{ 0.716 , 0.679 },\n",
      "{ 0.715 , 0.674 },\n",
      "{ 0.707 , 0.671 },\n",
      "{ 0.707 , 0.663 },\n",
      "{ 0.699 , 0.647 },\n",
      "{ 0.699 , 0.638 },\n",
      "{ 0.7 , 0.632 },\n",
      "{ 0.685 , 0.625 },\n",
      "{ 0.663 , 0.616 },\n",
      "{ 0.652 , 0.613 },\n",
      "{ 0.642 , 0.616 },\n",
      "{ 0.62 , 0.628 },\n",
      "{ 0.603 , 0.635 },\n",
      "{ 0.584 , 0.625 },\n",
      "{ 0.564 , 0.615 },\n",
      "{ 0.543 , 0.607 },\n",
      "{ 0.532 , 0.607 },\n",
      "{ 0.53 , 0.601 },\n",
      "{ 0.543 , 0.576 },\n",
      "{ 0.561 , 0.555 },\n",
      "{ 0.576 , 0.535 },\n",
      "{ 0.59 , 0.513 },\n",
      "{ 0.607 , 0.484 },\n",
      "{ 0.626 , 0.447 },\n",
      "{ 0.639 , 0.418 },\n",
      "{ 0.648 , 0.394 },\n",
      "{ 0.656 , 0.36 },\n",
      "{ 0.63 , 0.334 },\n",
      "{ 0.605 , 0.312 },\n",
      "{ 0.352 , 0.311 },\n",
      "{ 0.328 , 0.312 },\n"
     ]
    }
   ],
   "source": [
    "\n",
    "for i in range(len(order)):\n",
    "    print('{', order[i][0], ',', order[i][1], '},')"
   ]
  },
  {
   "cell_type": "code",
   "execution_count": 7,
   "metadata": {},
   "outputs": [],
   "source": [
    "im.save('line2RED.png')"
   ]
  },
  {
   "cell_type": "code",
   "execution_count": null,
   "metadata": {},
   "outputs": [],
   "source": []
  }
 ],
 "metadata": {
  "kernelspec": {
   "display_name": "Python 3 (ipykernel)",
   "language": "python",
   "name": "python3"
  },
  "language_info": {
   "codemirror_mode": {
    "name": "ipython",
    "version": 3
   },
   "file_extension": ".py",
   "mimetype": "text/x-python",
   "name": "python",
   "nbconvert_exporter": "python",
   "pygments_lexer": "ipython3",
   "version": "3.9.12"
  }
 },
 "nbformat": 4,
 "nbformat_minor": 2
}
