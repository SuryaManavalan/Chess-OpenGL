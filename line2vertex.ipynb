{
 "cells": [
  {
   "cell_type": "code",
   "execution_count": 1,
   "metadata": {},
   "outputs": [
    {
     "name": "stdout",
     "output_type": "stream",
     "text": [
      "(1000, 1000)\n",
      "(255, 255, 255)\n"
     ]
    }
   ],
   "source": [
    "import math\n",
    "from PIL import Image\n",
    "\n",
    "im = Image.open('knightLine.jpg') # Can be many different formats.\n",
    "pix = im.load()\n",
    "print(im.size)  # Get the width and hight of the image for iterating over\n",
    "print(pix[0,0])  # Get the RGBA Value of the a pixel of an image\n",
    "#pix[1,1] = (255, 255, 255)  # Set the RGBA Value of the image (tuple)\n",
    "#im.save('alive_parrot.png')  # Save the modified pixels as .png"
   ]
  },
  {
   "cell_type": "code",
   "execution_count": 2,
   "metadata": {},
   "outputs": [],
   "source": [
    "#move downwards from top of image\n",
    "#place vertex point at first black pixel\n",
    "#keep checking if you are img_Height/50 away from the previous vertex\n",
    "#only place new vertex until distance is reached"
   ]
  },
  {
   "cell_type": "code",
   "execution_count": 3,
   "metadata": {},
   "outputs": [],
   "source": [
    "w = im.size[0]\n",
    "h = im.size[1]\n",
    "vertices = []\n",
    "\n",
    "for ph in range(h):\n",
    "    for pw in range(w):\n",
    "        if(len(vertices) == 0):\n",
    "            if(pix[pw,ph] == (0,0,0)):\n",
    "                vertices.append((pw,ph))\n",
    "                pix[pw,ph] = (255, 0, 0)\n",
    "        elif(pix[pw,ph] == (0,0,0)):\n",
    "            if(ph - vertices[len(vertices)-1][1] > round(h/50)):\n",
    "                vertices.append((pw,ph))\n",
    "                pix[pw,ph] = (255, 0, 0)\n",
    "\n",
    "for i in range(len(vertices)):\n",
    "    vertices[i] = (vertices[i][0]/h,abs(round(1 - vertices[i][1]/h, 3)))\n",
    "    \n",
    "vertices.reverse()"
   ]
  },
  {
   "cell_type": "code",
   "execution_count": 4,
   "metadata": {},
   "outputs": [
    {
     "name": "stdout",
     "output_type": "stream",
     "text": [
      "[(0.293, 0.007), (0.305, 0.028), (0.309, 0.051), (0.295, 0.072), (0.277, 0.093), (0.306, 0.114), (0.317, 0.135), (0.318, 0.157), (0.308, 0.178), (0.277, 0.199), (0.223, 0.22), (0.22, 0.241), (0.218, 0.262), (0.21, 0.283), (0.197, 0.304), (0.18, 0.325), (0.153, 0.346), (0.139, 0.368), (0.13, 0.389), (0.121, 0.41), (0.116, 0.431), (0.107, 0.452), (0.104, 0.473)]\n"
     ]
    }
   ],
   "source": [
    "print(vertices)"
   ]
  },
  {
   "cell_type": "code",
   "execution_count": 5,
   "metadata": {},
   "outputs": [
    {
     "name": "stdout",
     "output_type": "stream",
     "text": [
      "23\n"
     ]
    }
   ],
   "source": [
    "print(len(vertices))"
   ]
  },
  {
   "cell_type": "code",
   "execution_count": 6,
   "metadata": {},
   "outputs": [
    {
     "name": "stdout",
     "output_type": "stream",
     "text": [
      "{ 0.293 , 0.007 },\n",
      "{ 0.305 , 0.028 },\n",
      "{ 0.309 , 0.051 },\n",
      "{ 0.295 , 0.072 },\n",
      "{ 0.277 , 0.093 },\n",
      "{ 0.306 , 0.114 },\n",
      "{ 0.317 , 0.135 },\n",
      "{ 0.318 , 0.157 },\n",
      "{ 0.308 , 0.178 },\n",
      "{ 0.277 , 0.199 },\n",
      "{ 0.223 , 0.22 },\n",
      "{ 0.22 , 0.241 },\n",
      "{ 0.218 , 0.262 },\n",
      "{ 0.21 , 0.283 },\n",
      "{ 0.197 , 0.304 },\n",
      "{ 0.18 , 0.325 },\n",
      "{ 0.153 , 0.346 },\n",
      "{ 0.139 , 0.368 },\n",
      "{ 0.13 , 0.389 },\n",
      "{ 0.121 , 0.41 },\n",
      "{ 0.116 , 0.431 },\n",
      "{ 0.107 , 0.452 },\n",
      "{ 0.104 , 0.473 },\n"
     ]
    }
   ],
   "source": [
    "\n",
    "for i in range(len(vertices)):\n",
    "    print('{', vertices[i][0], ',', vertices[i][1], '},')"
   ]
  },
  {
   "cell_type": "code",
   "execution_count": 7,
   "metadata": {},
   "outputs": [],
   "source": [
    "im.save('line2RED.png')"
   ]
  },
  {
   "cell_type": "code",
   "execution_count": null,
   "metadata": {},
   "outputs": [],
   "source": []
  }
 ],
 "metadata": {
  "kernelspec": {
   "display_name": "Python 3 (ipykernel)",
   "language": "python",
   "name": "python3"
  },
  "language_info": {
   "codemirror_mode": {
    "name": "ipython",
    "version": 3
   },
   "file_extension": ".py",
   "mimetype": "text/x-python",
   "name": "python",
   "nbconvert_exporter": "python",
   "pygments_lexer": "ipython3",
   "version": "3.9.12"
  }
 },
 "nbformat": 4,
 "nbformat_minor": 2
}
